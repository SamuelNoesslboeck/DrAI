{
  "nbformat": 4,
  "nbformat_minor": 0,
  "metadata": {
    "colab": {
      "provenance": []
    },
    "kernelspec": {
      "name": "python3",
      "display_name": "Python 3"
    },
    "language_info": {
      "name": "python"
    },
    "accelerator": "GPU",
    "gpuClass": "standard",
    "widgets": {
      "application/vnd.jupyter.widget-state+json": {
        "e991cc681e434db3b6706b91f2175830": {
          "model_module": "@jupyter-widgets/controls",
          "model_name": "HBoxModel",
          "model_module_version": "1.5.0",
          "state": {
            "_dom_classes": [],
            "_model_module": "@jupyter-widgets/controls",
            "_model_module_version": "1.5.0",
            "_model_name": "HBoxModel",
            "_view_count": null,
            "_view_module": "@jupyter-widgets/controls",
            "_view_module_version": "1.5.0",
            "_view_name": "HBoxView",
            "box_style": "",
            "children": [
              "IPY_MODEL_fcb9237c86cc474fa551df9437d05029",
              "IPY_MODEL_1a97ca02c4704fa4907e9ff74329d421",
              "IPY_MODEL_9d03005ac4db4f36b9226249b53eae9a"
            ],
            "layout": "IPY_MODEL_965d1ad421b14dfeb027cd5f5d19c73c"
          }
        },
        "fcb9237c86cc474fa551df9437d05029": {
          "model_module": "@jupyter-widgets/controls",
          "model_name": "HTMLModel",
          "model_module_version": "1.5.0",
          "state": {
            "_dom_classes": [],
            "_model_module": "@jupyter-widgets/controls",
            "_model_module_version": "1.5.0",
            "_model_name": "HTMLModel",
            "_view_count": null,
            "_view_module": "@jupyter-widgets/controls",
            "_view_module_version": "1.5.0",
            "_view_name": "HTMLView",
            "description": "",
            "description_tooltip": null,
            "layout": "IPY_MODEL_d0f3fcb6c9c6448cbf741455ef55ced4",
            "placeholder": "​",
            "style": "IPY_MODEL_d35b3dde27b644058e01c4cf8c73053d",
            "value": "100%"
          }
        },
        "1a97ca02c4704fa4907e9ff74329d421": {
          "model_module": "@jupyter-widgets/controls",
          "model_name": "FloatProgressModel",
          "model_module_version": "1.5.0",
          "state": {
            "_dom_classes": [],
            "_model_module": "@jupyter-widgets/controls",
            "_model_module_version": "1.5.0",
            "_model_name": "FloatProgressModel",
            "_view_count": null,
            "_view_module": "@jupyter-widgets/controls",
            "_view_module_version": "1.5.0",
            "_view_name": "ProgressView",
            "bar_style": "success",
            "description": "",
            "description_tooltip": null,
            "layout": "IPY_MODEL_1006e7a97e824999ab0d506ae8701b39",
            "max": 32,
            "min": 0,
            "orientation": "horizontal",
            "style": "IPY_MODEL_d50347c380dd45028d0417f62b364632",
            "value": 32
          }
        },
        "9d03005ac4db4f36b9226249b53eae9a": {
          "model_module": "@jupyter-widgets/controls",
          "model_name": "HTMLModel",
          "model_module_version": "1.5.0",
          "state": {
            "_dom_classes": [],
            "_model_module": "@jupyter-widgets/controls",
            "_model_module_version": "1.5.0",
            "_model_name": "HTMLModel",
            "_view_count": null,
            "_view_module": "@jupyter-widgets/controls",
            "_view_module_version": "1.5.0",
            "_view_name": "HTMLView",
            "description": "",
            "description_tooltip": null,
            "layout": "IPY_MODEL_a3357a3a68b94758b52a877d651b6f96",
            "placeholder": "​",
            "style": "IPY_MODEL_7492b713caa9495e9e96189d5813d58b",
            "value": " 32/32 [00:08&lt;00:00,  3.99it/s]"
          }
        },
        "965d1ad421b14dfeb027cd5f5d19c73c": {
          "model_module": "@jupyter-widgets/base",
          "model_name": "LayoutModel",
          "model_module_version": "1.2.0",
          "state": {
            "_model_module": "@jupyter-widgets/base",
            "_model_module_version": "1.2.0",
            "_model_name": "LayoutModel",
            "_view_count": null,
            "_view_module": "@jupyter-widgets/base",
            "_view_module_version": "1.2.0",
            "_view_name": "LayoutView",
            "align_content": null,
            "align_items": null,
            "align_self": null,
            "border": null,
            "bottom": null,
            "display": null,
            "flex": null,
            "flex_flow": null,
            "grid_area": null,
            "grid_auto_columns": null,
            "grid_auto_flow": null,
            "grid_auto_rows": null,
            "grid_column": null,
            "grid_gap": null,
            "grid_row": null,
            "grid_template_areas": null,
            "grid_template_columns": null,
            "grid_template_rows": null,
            "height": null,
            "justify_content": null,
            "justify_items": null,
            "left": null,
            "margin": null,
            "max_height": null,
            "max_width": null,
            "min_height": null,
            "min_width": null,
            "object_fit": null,
            "object_position": null,
            "order": null,
            "overflow": null,
            "overflow_x": null,
            "overflow_y": null,
            "padding": null,
            "right": null,
            "top": null,
            "visibility": null,
            "width": null
          }
        },
        "d0f3fcb6c9c6448cbf741455ef55ced4": {
          "model_module": "@jupyter-widgets/base",
          "model_name": "LayoutModel",
          "model_module_version": "1.2.0",
          "state": {
            "_model_module": "@jupyter-widgets/base",
            "_model_module_version": "1.2.0",
            "_model_name": "LayoutModel",
            "_view_count": null,
            "_view_module": "@jupyter-widgets/base",
            "_view_module_version": "1.2.0",
            "_view_name": "LayoutView",
            "align_content": null,
            "align_items": null,
            "align_self": null,
            "border": null,
            "bottom": null,
            "display": null,
            "flex": null,
            "flex_flow": null,
            "grid_area": null,
            "grid_auto_columns": null,
            "grid_auto_flow": null,
            "grid_auto_rows": null,
            "grid_column": null,
            "grid_gap": null,
            "grid_row": null,
            "grid_template_areas": null,
            "grid_template_columns": null,
            "grid_template_rows": null,
            "height": null,
            "justify_content": null,
            "justify_items": null,
            "left": null,
            "margin": null,
            "max_height": null,
            "max_width": null,
            "min_height": null,
            "min_width": null,
            "object_fit": null,
            "object_position": null,
            "order": null,
            "overflow": null,
            "overflow_x": null,
            "overflow_y": null,
            "padding": null,
            "right": null,
            "top": null,
            "visibility": null,
            "width": null
          }
        },
        "d35b3dde27b644058e01c4cf8c73053d": {
          "model_module": "@jupyter-widgets/controls",
          "model_name": "DescriptionStyleModel",
          "model_module_version": "1.5.0",
          "state": {
            "_model_module": "@jupyter-widgets/controls",
            "_model_module_version": "1.5.0",
            "_model_name": "DescriptionStyleModel",
            "_view_count": null,
            "_view_module": "@jupyter-widgets/base",
            "_view_module_version": "1.2.0",
            "_view_name": "StyleView",
            "description_width": ""
          }
        },
        "1006e7a97e824999ab0d506ae8701b39": {
          "model_module": "@jupyter-widgets/base",
          "model_name": "LayoutModel",
          "model_module_version": "1.2.0",
          "state": {
            "_model_module": "@jupyter-widgets/base",
            "_model_module_version": "1.2.0",
            "_model_name": "LayoutModel",
            "_view_count": null,
            "_view_module": "@jupyter-widgets/base",
            "_view_module_version": "1.2.0",
            "_view_name": "LayoutView",
            "align_content": null,
            "align_items": null,
            "align_self": null,
            "border": null,
            "bottom": null,
            "display": null,
            "flex": null,
            "flex_flow": null,
            "grid_area": null,
            "grid_auto_columns": null,
            "grid_auto_flow": null,
            "grid_auto_rows": null,
            "grid_column": null,
            "grid_gap": null,
            "grid_row": null,
            "grid_template_areas": null,
            "grid_template_columns": null,
            "grid_template_rows": null,
            "height": null,
            "justify_content": null,
            "justify_items": null,
            "left": null,
            "margin": null,
            "max_height": null,
            "max_width": null,
            "min_height": null,
            "min_width": null,
            "object_fit": null,
            "object_position": null,
            "order": null,
            "overflow": null,
            "overflow_x": null,
            "overflow_y": null,
            "padding": null,
            "right": null,
            "top": null,
            "visibility": null,
            "width": null
          }
        },
        "d50347c380dd45028d0417f62b364632": {
          "model_module": "@jupyter-widgets/controls",
          "model_name": "ProgressStyleModel",
          "model_module_version": "1.5.0",
          "state": {
            "_model_module": "@jupyter-widgets/controls",
            "_model_module_version": "1.5.0",
            "_model_name": "ProgressStyleModel",
            "_view_count": null,
            "_view_module": "@jupyter-widgets/base",
            "_view_module_version": "1.2.0",
            "_view_name": "StyleView",
            "bar_color": null,
            "description_width": ""
          }
        },
        "a3357a3a68b94758b52a877d651b6f96": {
          "model_module": "@jupyter-widgets/base",
          "model_name": "LayoutModel",
          "model_module_version": "1.2.0",
          "state": {
            "_model_module": "@jupyter-widgets/base",
            "_model_module_version": "1.2.0",
            "_model_name": "LayoutModel",
            "_view_count": null,
            "_view_module": "@jupyter-widgets/base",
            "_view_module_version": "1.2.0",
            "_view_name": "LayoutView",
            "align_content": null,
            "align_items": null,
            "align_self": null,
            "border": null,
            "bottom": null,
            "display": null,
            "flex": null,
            "flex_flow": null,
            "grid_area": null,
            "grid_auto_columns": null,
            "grid_auto_flow": null,
            "grid_auto_rows": null,
            "grid_column": null,
            "grid_gap": null,
            "grid_row": null,
            "grid_template_areas": null,
            "grid_template_columns": null,
            "grid_template_rows": null,
            "height": null,
            "justify_content": null,
            "justify_items": null,
            "left": null,
            "margin": null,
            "max_height": null,
            "max_width": null,
            "min_height": null,
            "min_width": null,
            "object_fit": null,
            "object_position": null,
            "order": null,
            "overflow": null,
            "overflow_x": null,
            "overflow_y": null,
            "padding": null,
            "right": null,
            "top": null,
            "visibility": null,
            "width": null
          }
        },
        "7492b713caa9495e9e96189d5813d58b": {
          "model_module": "@jupyter-widgets/controls",
          "model_name": "DescriptionStyleModel",
          "model_module_version": "1.5.0",
          "state": {
            "_model_module": "@jupyter-widgets/controls",
            "_model_module_version": "1.5.0",
            "_model_name": "DescriptionStyleModel",
            "_view_count": null,
            "_view_module": "@jupyter-widgets/base",
            "_view_module_version": "1.2.0",
            "_view_name": "StyleView",
            "description_width": ""
          }
        }
      }
    }
  },
  "cells": [
    {
      "cell_type": "code",
      "source": [
        "!pip install clip_interrogator"
      ],
      "metadata": {
        "colab": {
          "base_uri": "https://localhost:8080/"
        },
        "id": "EJJP4CxubhoQ",
        "outputId": "d9f927ad-c1bf-4f4a-fcd9-ff4c33462cf9"
      },
      "execution_count": 1,
      "outputs": [
        {
          "output_type": "stream",
          "name": "stdout",
          "text": [
            "Looking in indexes: https://pypi.org/simple, https://us-python.pkg.dev/colab-wheels/public/simple/\n",
            "Requirement already satisfied: clip_interrogator in /usr/local/lib/python3.9/dist-packages (0.6.0)\n",
            "Requirement already satisfied: Pillow in /usr/local/lib/python3.9/dist-packages (from clip_interrogator) (8.4.0)\n",
            "Requirement already satisfied: transformers>=4.27.1 in /usr/local/lib/python3.9/dist-packages (from clip_interrogator) (4.27.4)\n",
            "Requirement already satisfied: torch in /usr/local/lib/python3.9/dist-packages (from clip_interrogator) (2.0.0+cu118)\n",
            "Requirement already satisfied: torchvision in /usr/local/lib/python3.9/dist-packages (from clip_interrogator) (0.15.1+cu118)\n",
            "Requirement already satisfied: tqdm in /usr/local/lib/python3.9/dist-packages (from clip_interrogator) (4.65.0)\n",
            "Requirement already satisfied: requests in /usr/local/lib/python3.9/dist-packages (from clip_interrogator) (2.27.1)\n",
            "Requirement already satisfied: open-clip-torch in /usr/local/lib/python3.9/dist-packages (from clip_interrogator) (2.16.0)\n",
            "Requirement already satisfied: accelerate in /usr/local/lib/python3.9/dist-packages (from clip_interrogator) (0.18.0)\n",
            "Requirement already satisfied: safetensors in /usr/local/lib/python3.9/dist-packages (from clip_interrogator) (0.3.0)\n",
            "Requirement already satisfied: numpy>=1.17 in /usr/local/lib/python3.9/dist-packages (from transformers>=4.27.1->clip_interrogator) (1.22.4)\n",
            "Requirement already satisfied: packaging>=20.0 in /usr/local/lib/python3.9/dist-packages (from transformers>=4.27.1->clip_interrogator) (23.0)\n",
            "Requirement already satisfied: huggingface-hub<1.0,>=0.11.0 in /usr/local/lib/python3.9/dist-packages (from transformers>=4.27.1->clip_interrogator) (0.13.4)\n",
            "Requirement already satisfied: pyyaml>=5.1 in /usr/local/lib/python3.9/dist-packages (from transformers>=4.27.1->clip_interrogator) (6.0)\n",
            "Requirement already satisfied: regex!=2019.12.17 in /usr/local/lib/python3.9/dist-packages (from transformers>=4.27.1->clip_interrogator) (2022.10.31)\n",
            "Requirement already satisfied: tokenizers!=0.11.3,<0.14,>=0.11.1 in /usr/local/lib/python3.9/dist-packages (from transformers>=4.27.1->clip_interrogator) (0.13.3)\n",
            "Requirement already satisfied: filelock in /usr/local/lib/python3.9/dist-packages (from transformers>=4.27.1->clip_interrogator) (3.11.0)\n",
            "Requirement already satisfied: psutil in /usr/local/lib/python3.9/dist-packages (from accelerate->clip_interrogator) (5.9.4)\n",
            "Requirement already satisfied: typing-extensions in /usr/local/lib/python3.9/dist-packages (from torch->clip_interrogator) (4.5.0)\n",
            "Requirement already satisfied: networkx in /usr/local/lib/python3.9/dist-packages (from torch->clip_interrogator) (3.1)\n",
            "Requirement already satisfied: triton==2.0.0 in /usr/local/lib/python3.9/dist-packages (from torch->clip_interrogator) (2.0.0)\n",
            "Requirement already satisfied: sympy in /usr/local/lib/python3.9/dist-packages (from torch->clip_interrogator) (1.11.1)\n",
            "Requirement already satisfied: jinja2 in /usr/local/lib/python3.9/dist-packages (from torch->clip_interrogator) (3.1.2)\n",
            "Requirement already satisfied: lit in /usr/local/lib/python3.9/dist-packages (from triton==2.0.0->torch->clip_interrogator) (16.0.0)\n",
            "Requirement already satisfied: cmake in /usr/local/lib/python3.9/dist-packages (from triton==2.0.0->torch->clip_interrogator) (3.25.2)\n",
            "Requirement already satisfied: protobuf<4 in /usr/local/lib/python3.9/dist-packages (from open-clip-torch->clip_interrogator) (3.20.3)\n",
            "Requirement already satisfied: sentencepiece in /usr/local/lib/python3.9/dist-packages (from open-clip-torch->clip_interrogator) (0.1.98)\n",
            "Requirement already satisfied: ftfy in /usr/local/lib/python3.9/dist-packages (from open-clip-torch->clip_interrogator) (6.1.1)\n",
            "Requirement already satisfied: timm in /usr/local/lib/python3.9/dist-packages (from open-clip-torch->clip_interrogator) (0.6.13)\n",
            "Requirement already satisfied: charset-normalizer~=2.0.0 in /usr/local/lib/python3.9/dist-packages (from requests->clip_interrogator) (2.0.12)\n",
            "Requirement already satisfied: idna<4,>=2.5 in /usr/local/lib/python3.9/dist-packages (from requests->clip_interrogator) (3.4)\n",
            "Requirement already satisfied: certifi>=2017.4.17 in /usr/local/lib/python3.9/dist-packages (from requests->clip_interrogator) (2022.12.7)\n",
            "Requirement already satisfied: urllib3<1.27,>=1.21.1 in /usr/local/lib/python3.9/dist-packages (from requests->clip_interrogator) (1.26.15)\n",
            "Requirement already satisfied: wcwidth>=0.2.5 in /usr/local/lib/python3.9/dist-packages (from ftfy->open-clip-torch->clip_interrogator) (0.2.6)\n",
            "Requirement already satisfied: MarkupSafe>=2.0 in /usr/local/lib/python3.9/dist-packages (from jinja2->torch->clip_interrogator) (2.1.2)\n",
            "Requirement already satisfied: mpmath>=0.19 in /usr/local/lib/python3.9/dist-packages (from sympy->torch->clip_interrogator) (1.3.0)\n"
          ]
        }
      ]
    },
    {
      "cell_type": "code",
      "source": [
        "!pip install diffusers"
      ],
      "metadata": {
        "colab": {
          "base_uri": "https://localhost:8080/"
        },
        "id": "0fTRXa9vkcTH",
        "outputId": "9dc23206-3ece-4f05-8c8a-811924b35b71"
      },
      "execution_count": 2,
      "outputs": [
        {
          "output_type": "stream",
          "name": "stdout",
          "text": [
            "Looking in indexes: https://pypi.org/simple, https://us-python.pkg.dev/colab-wheels/public/simple/\n",
            "Requirement already satisfied: diffusers in /usr/local/lib/python3.9/dist-packages (0.14.0)\n",
            "Requirement already satisfied: Pillow in /usr/local/lib/python3.9/dist-packages (from diffusers) (8.4.0)\n",
            "Requirement already satisfied: importlib-metadata in /usr/local/lib/python3.9/dist-packages (from diffusers) (6.2.0)\n",
            "Requirement already satisfied: numpy in /usr/local/lib/python3.9/dist-packages (from diffusers) (1.22.4)\n",
            "Requirement already satisfied: requests in /usr/local/lib/python3.9/dist-packages (from diffusers) (2.27.1)\n",
            "Requirement already satisfied: filelock in /usr/local/lib/python3.9/dist-packages (from diffusers) (3.11.0)\n",
            "Requirement already satisfied: huggingface-hub>=0.10.0 in /usr/local/lib/python3.9/dist-packages (from diffusers) (0.13.4)\n",
            "Requirement already satisfied: regex!=2019.12.17 in /usr/local/lib/python3.9/dist-packages (from diffusers) (2022.10.31)\n",
            "Requirement already satisfied: pyyaml>=5.1 in /usr/local/lib/python3.9/dist-packages (from huggingface-hub>=0.10.0->diffusers) (6.0)\n",
            "Requirement already satisfied: typing-extensions>=3.7.4.3 in /usr/local/lib/python3.9/dist-packages (from huggingface-hub>=0.10.0->diffusers) (4.5.0)\n",
            "Requirement already satisfied: packaging>=20.9 in /usr/local/lib/python3.9/dist-packages (from huggingface-hub>=0.10.0->diffusers) (23.0)\n",
            "Requirement already satisfied: tqdm>=4.42.1 in /usr/local/lib/python3.9/dist-packages (from huggingface-hub>=0.10.0->diffusers) (4.65.0)\n",
            "Requirement already satisfied: zipp>=0.5 in /usr/local/lib/python3.9/dist-packages (from importlib-metadata->diffusers) (3.15.0)\n",
            "Requirement already satisfied: charset-normalizer~=2.0.0 in /usr/local/lib/python3.9/dist-packages (from requests->diffusers) (2.0.12)\n",
            "Requirement already satisfied: idna<4,>=2.5 in /usr/local/lib/python3.9/dist-packages (from requests->diffusers) (3.4)\n",
            "Requirement already satisfied: certifi>=2017.4.17 in /usr/local/lib/python3.9/dist-packages (from requests->diffusers) (2022.12.7)\n",
            "Requirement already satisfied: urllib3<1.27,>=1.21.1 in /usr/local/lib/python3.9/dist-packages (from requests->diffusers) (1.26.15)\n"
          ]
        }
      ]
    },
    {
      "cell_type": "code",
      "source": [
        "from google.colab import drive\n",
        "\n",
        "drive.mount(\"/content/gdrive\")"
      ],
      "metadata": {
        "colab": {
          "base_uri": "https://localhost:8080/"
        },
        "id": "qxyD5XKjbsc1",
        "outputId": "62e48c0f-f2c6-4b18-9299-50fb56633d35"
      },
      "execution_count": 1,
      "outputs": [
        {
          "output_type": "stream",
          "name": "stdout",
          "text": [
            "Drive already mounted at /content/gdrive; to attempt to forcibly remount, call drive.mount(\"/content/gdrive\", force_remount=True).\n"
          ]
        }
      ]
    },
    {
      "cell_type": "code",
      "source": [
        "from clip_interrogator import Config, Interrogator\n",
        "from PIL import Image\n",
        "\n",
        "ci = Interrogator( Config( clip_model_name=\"ViT-L-14/openai\" ) )"
      ],
      "metadata": {
        "colab": {
          "base_uri": "https://localhost:8080/"
        },
        "id": "fA4c9s1wZs3J",
        "outputId": "02c3322f-5ed0-45ce-8832-d740cd5ee3aa"
      },
      "execution_count": 18,
      "outputs": [
        {
          "output_type": "stream",
          "name": "stdout",
          "text": [
            "Loading caption model blip-large...\n",
            "Loading CLIP model ViT-L-14/openai...\n",
            "Loaded CLIP model and data in 14.86 seconds.\n"
          ]
        }
      ]
    },
    {
      "cell_type": "code",
      "source": [
        "import torch\n",
        "from PIL import Image\n",
        "from io import BytesIO\n",
        "\n",
        "from diffusers import StableDiffusionImg2ImgPipeline\n",
        "from clip_interrogator import Config, Interrogator\n",
        "import numpy as np\n",
        "import cv2\n",
        "\n",
        "\n",
        "device = \"cuda\"\n",
        "model_id_or_path = \"runwayml/stable-diffusion-v1-5\"\n",
        "pipe = StableDiffusionImg2ImgPipeline.from_pretrained(model_id_or_path, torch_dtype=torch.float16)\n",
        "pipe = pipe.to(device)"
      ],
      "metadata": {
        "id": "Oa-T4JU0dgZY"
      },
      "execution_count": null,
      "outputs": []
    },
    {
      "cell_type": "code",
      "source": [
        "def getRandomLine( imgSize, length : int = 40, step : int = 5, dDegree : int = 5 ) -> np.ndarray:\n",
        "    #Initialize random points\n",
        "    x = np.random.randint( 0, imgSize[ 1 ] )\n",
        "    y = np.random.randint( 0, imgSize[ 0 ] )\n",
        "\n",
        "    #convert degree to radiants\n",
        "    dDegree = dDegree * 2 * np.math.pi / 360\n",
        "\n",
        "    #choose a random direction in which the line should be drawn\n",
        "    direction = np.random.rand( 1 ) * 2 * np.math.pi\n",
        "    points = [ [ x, y ] ]\n",
        "\n",
        "    #interate through the line and change the direction a bit\n",
        "    for i in range( length ):\n",
        "        direction = direction + np.random.normal( 0, 1 ) * dDegree\n",
        "        x = int( x + step * np.math.cos( direction ) )\n",
        "        y = int( y + step * np.math.sin( direction ) ) \n",
        "        points.append( [ x, y ] )\n",
        "\n",
        "    points = np.array( points, dtype = np.int32 ).reshape( -1, 1, 2 )\n",
        "    return points\n"
      ],
      "metadata": {
        "id": "h8SNztSRadDF"
      },
      "execution_count": 4,
      "outputs": []
    },
    {
      "cell_type": "code",
      "source": [
        "import cv2\n",
        "imgName = \"test3\"\n",
        "\n",
        "init_image = Image.open( f\"/content/gdrive/My Drive/line_{imgName}.png\" ).convert( \"RGB\" )\n",
        "init_image = init_image.resize( ( 768, 512 ) )\n",
        "prompt = ci.interrogate_fast( init_image )\n",
        "for i in range( 0, len( prompt ), 100 ):\n",
        "  print( prompt[ i : min( i + 100, len( prompt ) ) ] )\n",
        "\n",
        "prompt = \"childish drawing style, black and white, minimalistic\" + prompt \n",
        "\n",
        "images = pipe(prompt=prompt, image=init_image, strength=0.65, guidance_scale=7.5, negative_prompt = \"different, new lines, ugly\" ).images\n",
        "images[0].save( f\"/content/gdrive/My Drive/generated.png\")\n",
        "\n",
        "\n",
        "img1 = cv2.imread( f\"/content/gdrive/My Drive/{imgName}.png\" )\n",
        "img1 = cv2.resize( img1, ( 768, 512 ) )\n",
        "img1 = cv2.cvtColor( img1, cv2.COLOR_RGB2GRAY )\n",
        "\n",
        "img2 = cv2.imread( \"/content/gdrive/My Drive/generated.png\" )\n",
        "img2 = cv2.resize( img2, ( 768, 512 ) )\n",
        "img2 = cv2.cvtColor( img2, cv2.COLOR_RGB2GRAY )\n",
        "\n",
        "\n",
        "img = np.where( ( ( img1 < 200 ) | ( img2 < 200 ) ), 0, 255 )\n",
        "cv2.imwrite( \"/content/gdrive/My Drive/merged.png\", img )"
      ],
      "metadata": {
        "colab": {
          "base_uri": "https://localhost:8080/",
          "height": 190,
          "referenced_widgets": [
            "e991cc681e434db3b6706b91f2175830",
            "fcb9237c86cc474fa551df9437d05029",
            "1a97ca02c4704fa4907e9ff74329d421",
            "9d03005ac4db4f36b9226249b53eae9a",
            "965d1ad421b14dfeb027cd5f5d19c73c",
            "d0f3fcb6c9c6448cbf741455ef55ced4",
            "d35b3dde27b644058e01c4cf8c73053d",
            "1006e7a97e824999ab0d506ae8701b39",
            "d50347c380dd45028d0417f62b364632",
            "a3357a3a68b94758b52a877d651b6f96",
            "7492b713caa9495e9e96189d5813d58b"
          ]
        },
        "id": "FpARE5xKkTBI",
        "outputId": "ffc67c71-146a-4adb-fb56-35508ac9004e"
      },
      "execution_count": 33,
      "outputs": [
        {
          "output_type": "stream",
          "name": "stderr",
          "text": [
            "100%|██████████| 55/55 [00:00<00:00, 68.57it/s]\n",
            "The following part of your input was truncated because CLIP can only handle sequences up to 77 tokens: ['sketch art, duck shaped spaceship']\n"
          ]
        },
        {
          "output_type": "stream",
          "name": "stdout",
          "text": [
            "a drawing of a person holding a cell phone in their hand, highly detailed exquisite fanart, extremel\n",
            "y detailed art, 8k high quality detailed art, portrait of figther jet evading, artistic drawing of a\n",
            " crow, highly detailed drawing, highly detailed art, space ship gribble, animatic, professional char\n",
            "acter designer, high quality sketch art, duck shaped spaceship\n"
          ]
        },
        {
          "output_type": "display_data",
          "data": {
            "text/plain": [
              "  0%|          | 0/32 [00:00<?, ?it/s]"
            ],
            "application/vnd.jupyter.widget-view+json": {
              "version_major": 2,
              "version_minor": 0,
              "model_id": "e991cc681e434db3b6706b91f2175830"
            }
          },
          "metadata": {}
        },
        {
          "output_type": "execute_result",
          "data": {
            "text/plain": [
              "True"
            ]
          },
          "metadata": {},
          "execution_count": 33
        }
      ]
    }
  ]
}